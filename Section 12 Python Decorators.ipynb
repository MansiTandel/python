{
 "cells": [
  {
   "cell_type": "code",
   "execution_count": 4,
   "id": "796dcc31",
   "metadata": {},
   "outputs": [],
   "source": [
    "# DECORATORS\n",
    "\n",
    "# allows to decorate a function\n",
    "# add extra functionality to an already existing function\n",
    "\n",
    "# use @ operator and are then placed on the top of the original function"
   ]
  },
  {
   "cell_type": "code",
   "execution_count": 5,
   "id": "9e55b633",
   "metadata": {},
   "outputs": [],
   "source": [
    " #  @some_decorator\n",
    " #  def simple_func():\n",
    "#     Do stuff"
   ]
  },
  {
   "cell_type": "code",
   "execution_count": 6,
   "id": "b5c75b77",
   "metadata": {},
   "outputs": [],
   "source": [
    "def func():\n",
    "    return 1"
   ]
  },
  {
   "cell_type": "code",
   "execution_count": 7,
   "id": "4be9c660",
   "metadata": {},
   "outputs": [
    {
     "data": {
      "text/plain": [
       "1"
      ]
     },
     "execution_count": 7,
     "metadata": {},
     "output_type": "execute_result"
    }
   ],
   "source": [
    "func()"
   ]
  },
  {
   "cell_type": "code",
   "execution_count": 8,
   "id": "a35d19be",
   "metadata": {},
   "outputs": [
    {
     "data": {
      "text/plain": [
       "<function __main__.func()>"
      ]
     },
     "execution_count": 8,
     "metadata": {},
     "output_type": "execute_result"
    }
   ],
   "source": [
    "func"
   ]
  },
  {
   "cell_type": "code",
   "execution_count": 9,
   "id": "bd630a0a",
   "metadata": {},
   "outputs": [],
   "source": [
    "def hello():\n",
    "    return \"hello\""
   ]
  },
  {
   "cell_type": "code",
   "execution_count": 10,
   "id": "26def35b",
   "metadata": {},
   "outputs": [
    {
     "data": {
      "text/plain": [
       "'hello'"
      ]
     },
     "execution_count": 10,
     "metadata": {},
     "output_type": "execute_result"
    }
   ],
   "source": [
    "hello()"
   ]
  },
  {
   "cell_type": "code",
   "execution_count": 11,
   "id": "5a9784f0",
   "metadata": {},
   "outputs": [
    {
     "data": {
      "text/plain": [
       "<function __main__.hello()>"
      ]
     },
     "execution_count": 11,
     "metadata": {},
     "output_type": "execute_result"
    }
   ],
   "source": [
    "hello"
   ]
  },
  {
   "cell_type": "code",
   "execution_count": 12,
   "id": "bb9485f2",
   "metadata": {},
   "outputs": [],
   "source": [
    "greet=hello"
   ]
  },
  {
   "cell_type": "code",
   "execution_count": 13,
   "id": "dc852172",
   "metadata": {},
   "outputs": [
    {
     "data": {
      "text/plain": [
       "function"
      ]
     },
     "execution_count": 13,
     "metadata": {},
     "output_type": "execute_result"
    }
   ],
   "source": [
    "type(greet)"
   ]
  },
  {
   "cell_type": "code",
   "execution_count": 14,
   "id": "93ea6338",
   "metadata": {},
   "outputs": [
    {
     "data": {
      "text/plain": [
       "'hello'"
      ]
     },
     "execution_count": 14,
     "metadata": {},
     "output_type": "execute_result"
    }
   ],
   "source": [
    "greet()"
   ]
  },
  {
   "cell_type": "code",
   "execution_count": 15,
   "id": "30df406e",
   "metadata": {},
   "outputs": [
    {
     "data": {
      "text/plain": [
       "'hello'"
      ]
     },
     "execution_count": 15,
     "metadata": {},
     "output_type": "execute_result"
    }
   ],
   "source": [
    "hello()"
   ]
  },
  {
   "cell_type": "code",
   "execution_count": 16,
   "id": "b79fe31a",
   "metadata": {},
   "outputs": [],
   "source": [
    "del hello"
   ]
  },
  {
   "cell_type": "code",
   "execution_count": 17,
   "id": "da9bd291",
   "metadata": {
    "scrolled": true
   },
   "outputs": [
    {
     "ename": "NameError",
     "evalue": "name 'hello' is not defined",
     "output_type": "error",
     "traceback": [
      "\u001b[1;31m---------------------------------------------------------------------------\u001b[0m",
      "\u001b[1;31mNameError\u001b[0m                                 Traceback (most recent call last)",
      "Input \u001b[1;32mIn [17]\u001b[0m, in \u001b[0;36m<cell line: 1>\u001b[1;34m()\u001b[0m\n\u001b[1;32m----> 1\u001b[0m \u001b[43mhello\u001b[49m\n",
      "\u001b[1;31mNameError\u001b[0m: name 'hello' is not defined"
     ]
    }
   ],
   "source": [
    "hello"
   ]
  },
  {
   "cell_type": "code",
   "execution_count": 18,
   "id": "7fdd5347",
   "metadata": {},
   "outputs": [
    {
     "data": {
      "text/plain": [
       "'hello'"
      ]
     },
     "execution_count": 18,
     "metadata": {},
     "output_type": "execute_result"
    }
   ],
   "source": [
    "greet()"
   ]
  },
  {
   "cell_type": "code",
   "execution_count": 19,
   "id": "34928fe4",
   "metadata": {},
   "outputs": [],
   "source": [
    "# passing/calling function into another function"
   ]
  },
  {
   "cell_type": "code",
   "execution_count": 33,
   "id": "cc83640e",
   "metadata": {},
   "outputs": [],
   "source": [
    "def hello_new(name='abc'):\n",
    "    print('The hello_new() function has been executed! ')\n",
    "    \n",
    "    def greet1():\n",
    "        #greet1() defined only inside the hello_new function. \n",
    "        # scope is limited to that\n",
    "        return '\\t This is the greet1 function inside hello_new'\n",
    "    \n",
    "    def welcome():\n",
    "        return '\\t This is welcome() inside hello'\n",
    "    \n",
    "    print(greet1())\n",
    "    print(welcome())\n",
    "    print(\"This is the end of hello_new function\")"
   ]
  },
  {
   "cell_type": "code",
   "execution_count": 34,
   "id": "c48d9d18",
   "metadata": {},
   "outputs": [
    {
     "name": "stdout",
     "output_type": "stream",
     "text": [
      "The hello_new() function has been executed! \n",
      "\t This is the greet1 function inside hello_new\n",
      "\t This is welcome() inside hello\n",
      "This is the end of hello_new function\n"
     ]
    }
   ],
   "source": [
    "hello_new()"
   ]
  },
  {
   "cell_type": "code",
   "execution_count": 35,
   "id": "49fd2a5c",
   "metadata": {},
   "outputs": [
    {
     "ename": "NameError",
     "evalue": "name 'greet1' is not defined",
     "output_type": "error",
     "traceback": [
      "\u001b[1;31m---------------------------------------------------------------------------\u001b[0m",
      "\u001b[1;31mNameError\u001b[0m                                 Traceback (most recent call last)",
      "Input \u001b[1;32mIn [35]\u001b[0m, in \u001b[0;36m<cell line: 1>\u001b[1;34m()\u001b[0m\n\u001b[1;32m----> 1\u001b[0m \u001b[43mgreet1\u001b[49m()\n",
      "\u001b[1;31mNameError\u001b[0m: name 'greet1' is not defined"
     ]
    }
   ],
   "source": [
    "greet1()"
   ]
  },
  {
   "cell_type": "code",
   "execution_count": 40,
   "id": "3d27e501",
   "metadata": {},
   "outputs": [],
   "source": [
    "def hello2(name='abc'):\n",
    "    print('The hello_new() function has been executed! ')\n",
    "    \n",
    "    def greet2():\n",
    "        #greet1() defined only inside the hello_new function. \n",
    "        # scope is limited to that\n",
    "        return '\\t This is the greet1 function inside hello_new'\n",
    "    \n",
    "    def welcome2():\n",
    "        return '\\t This is welcome() inside hello'\n",
    "    \n",
    "   \n",
    "    print(\"I am going to return a function!!\")\n",
    "    \n",
    "    if name=='abc':\n",
    "        return greet2\n",
    "    else:\n",
    "        return welcome2"
   ]
  },
  {
   "cell_type": "code",
   "execution_count": 41,
   "id": "cae6da6f",
   "metadata": {},
   "outputs": [
    {
     "name": "stdout",
     "output_type": "stream",
     "text": [
      "The hello_new() function has been executed! \n",
      "I am going to return a function!!\n"
     ]
    }
   ],
   "source": [
    "my_new_func=hello2('abc')"
   ]
  },
  {
   "cell_type": "code",
   "execution_count": 42,
   "id": "91557c09",
   "metadata": {},
   "outputs": [
    {
     "data": {
      "text/plain": [
       "'\\t This is the greet1 function inside hello_new'"
      ]
     },
     "execution_count": 42,
     "metadata": {},
     "output_type": "execute_result"
    }
   ],
   "source": [
    "my_new_func()"
   ]
  },
  {
   "cell_type": "code",
   "execution_count": 43,
   "id": "3ed2504a",
   "metadata": {},
   "outputs": [
    {
     "data": {
      "text/plain": [
       "<function __main__.hello2.<locals>.greet2()>"
      ]
     },
     "execution_count": 43,
     "metadata": {},
     "output_type": "execute_result"
    }
   ],
   "source": [
    "my_new_func"
   ]
  },
  {
   "cell_type": "code",
   "execution_count": 45,
   "id": "d3ed0a72",
   "metadata": {},
   "outputs": [],
   "source": [
    "# Returned a function inside another function above"
   ]
  },
  {
   "cell_type": "code",
   "execution_count": 47,
   "id": "495dcce0",
   "metadata": {},
   "outputs": [
    {
     "name": "stdout",
     "output_type": "stream",
     "text": [
      "\t This is the greet1 function inside hello_new\n"
     ]
    }
   ],
   "source": [
    "print(my_new_func())"
   ]
  },
  {
   "cell_type": "code",
   "execution_count": 55,
   "id": "e1540bbc",
   "metadata": {},
   "outputs": [],
   "source": [
    "#\n",
    "\n",
    "def cool():\n",
    "    def super_cool():\n",
    "        return 'I am very cool'\n",
    "    \n",
    "    return super_cool"
   ]
  },
  {
   "cell_type": "code",
   "execution_count": 56,
   "id": "3d60b552",
   "metadata": {},
   "outputs": [],
   "source": [
    "some_func=cool()"
   ]
  },
  {
   "cell_type": "code",
   "execution_count": 57,
   "id": "506493fe",
   "metadata": {},
   "outputs": [
    {
     "data": {
      "text/plain": [
       "'I am very cool'"
      ]
     },
     "execution_count": 57,
     "metadata": {},
     "output_type": "execute_result"
    }
   ],
   "source": [
    "some_func()"
   ]
  },
  {
   "cell_type": "code",
   "execution_count": null,
   "id": "890b8d27",
   "metadata": {},
   "outputs": [],
   "source": []
  },
  {
   "cell_type": "code",
   "execution_count": null,
   "id": "a218003d",
   "metadata": {},
   "outputs": [],
   "source": []
  },
  {
   "cell_type": "code",
   "execution_count": 58,
   "id": "d6c99cde",
   "metadata": {},
   "outputs": [],
   "source": [
    "def hello3():\n",
    "    return \"Hi abc\"\n"
   ]
  },
  {
   "cell_type": "code",
   "execution_count": 61,
   "id": "48ea0fa3",
   "metadata": {},
   "outputs": [],
   "source": [
    "def other3(some_def_func):\n",
    "    print('Other code runs here!')\n",
    "    print(some_def_func()) \n",
    "    \n",
    "#passing a function as an argument"
   ]
  },
  {
   "cell_type": "code",
   "execution_count": 63,
   "id": "e03dd327",
   "metadata": {},
   "outputs": [
    {
     "data": {
      "text/plain": [
       "'Hi abc'"
      ]
     },
     "execution_count": 63,
     "metadata": {},
     "output_type": "execute_result"
    }
   ],
   "source": [
    "hello3()"
   ]
  },
  {
   "cell_type": "code",
   "execution_count": 65,
   "id": "3799c3e5",
   "metadata": {},
   "outputs": [
    {
     "data": {
      "text/plain": [
       "<function __main__.hello3()>"
      ]
     },
     "execution_count": 65,
     "metadata": {},
     "output_type": "execute_result"
    }
   ],
   "source": [
    "hello3"
   ]
  },
  {
   "cell_type": "code",
   "execution_count": 68,
   "id": "6d20383d",
   "metadata": {},
   "outputs": [
    {
     "name": "stdout",
     "output_type": "stream",
     "text": [
      "Other code runs here!\n",
      "Hi abc\n"
     ]
    }
   ],
   "source": [
    "other3(hello3)"
   ]
  },
  {
   "cell_type": "code",
   "execution_count": null,
   "id": "dfd1819c",
   "metadata": {},
   "outputs": [],
   "source": []
  },
  {
   "cell_type": "code",
   "execution_count": null,
   "id": "98614c97",
   "metadata": {},
   "outputs": [],
   "source": []
  },
  {
   "cell_type": "code",
   "execution_count": null,
   "id": "f7dc387d",
   "metadata": {},
   "outputs": [],
   "source": []
  },
  {
   "cell_type": "code",
   "execution_count": null,
   "id": "942a707d",
   "metadata": {},
   "outputs": [],
   "source": []
  },
  {
   "cell_type": "code",
   "execution_count": 69,
   "id": "60a2b9d3",
   "metadata": {},
   "outputs": [],
   "source": [
    "def new_decorator(original_func):\n",
    "    \n",
    "    def wrap_func():\n",
    "        \n",
    "        print('Some extra code before the original function')\n",
    "        \n",
    "        original_func()\n",
    "        \n",
    "        print('Some extra code, after the original function!')\n",
    "        \n",
    "        \n",
    "# passing  a func\n",
    "# adding extra code before it\n",
    "# adding some code after it\n",
    "\n",
    "    return wrap_func"
   ]
  },
  {
   "cell_type": "code",
   "execution_count": 70,
   "id": "89c1078e",
   "metadata": {},
   "outputs": [],
   "source": [
    "def func_needs_decorator():\n",
    "    print(\"I want to be decorated!!\")"
   ]
  },
  {
   "cell_type": "code",
   "execution_count": 71,
   "id": "c78fe533",
   "metadata": {},
   "outputs": [
    {
     "name": "stdout",
     "output_type": "stream",
     "text": [
      "I want to be decorated!!\n"
     ]
    }
   ],
   "source": [
    "func_needs_decorator()"
   ]
  },
  {
   "cell_type": "code",
   "execution_count": 72,
   "id": "845a935c",
   "metadata": {},
   "outputs": [],
   "source": [
    "decorated_func=new_decorator(func_needs_decorator)"
   ]
  },
  {
   "cell_type": "code",
   "execution_count": 73,
   "id": "a8117559",
   "metadata": {},
   "outputs": [
    {
     "name": "stdout",
     "output_type": "stream",
     "text": [
      "Some extra code before the original function\n",
      "I want to be decorated!!\n",
      "Some extra code, after the original function!\n"
     ]
    }
   ],
   "source": [
    "decorated_func()"
   ]
  },
  {
   "cell_type": "code",
   "execution_count": 82,
   "id": "b799b3b3",
   "metadata": {},
   "outputs": [],
   "source": [
    "@new_decorator  # The initial main function\n",
    "\n",
    "def func_needs_decorator():\n",
    "    print(\"I want to be decorated!!\")\n",
    "    \n",
    "#Passes this function into the origianl_func()"
   ]
  },
  {
   "cell_type": "code",
   "execution_count": 83,
   "id": "495640e6",
   "metadata": {},
   "outputs": [
    {
     "name": "stdout",
     "output_type": "stream",
     "text": [
      "Some extra code before the original function\n",
      "I want to be decorated!!\n",
      "Some extra code, after the original function!\n"
     ]
    }
   ],
   "source": [
    "func_needs_decorator()"
   ]
  },
  {
   "cell_type": "code",
   "execution_count": null,
   "id": "2980a00c",
   "metadata": {},
   "outputs": [],
   "source": []
  }
 ],
 "metadata": {
  "kernelspec": {
   "display_name": "Python 3 (ipykernel)",
   "language": "python",
   "name": "python3"
  },
  "language_info": {
   "codemirror_mode": {
    "name": "ipython",
    "version": 3
   },
   "file_extension": ".py",
   "mimetype": "text/x-python",
   "name": "python",
   "nbconvert_exporter": "python",
   "pygments_lexer": "ipython3",
   "version": "3.9.12"
  }
 },
 "nbformat": 4,
 "nbformat_minor": 5
}
